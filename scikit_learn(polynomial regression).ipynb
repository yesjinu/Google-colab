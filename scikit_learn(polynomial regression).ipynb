{
  "nbformat": 4,
  "nbformat_minor": 0,
  "metadata": {
    "colab": {
      "name": "Untitled1.ipynb",
      "provenance": [],
      "authorship_tag": "ABX9TyPFw63yitQI0qSd6w3oUi9E",
      "include_colab_link": true
    },
    "kernelspec": {
      "name": "python3",
      "display_name": "Python 3"
    }
  },
  "cells": [
    {
      "cell_type": "markdown",
      "metadata": {
        "id": "view-in-github",
        "colab_type": "text"
      },
      "source": [
        "<a href=\"https://colab.research.google.com/github/yesjinu/Google-colab/blob/master/scikit_learn(polynomial%20regression).ipynb\" target=\"_parent\"><img src=\"https://colab.research.google.com/assets/colab-badge.svg\" alt=\"Open In Colab\"/></a>"
      ]
    },
    {
      "cell_type": "code",
      "metadata": {
        "id": "4r7wnW5lSgwX",
        "colab_type": "code",
        "colab": {}
      },
      "source": [
        "import pandas as pd\n",
        "\n",
        "from sklearn.datasets import load_diabetes\n",
        "from sklearn.preprocessing import PolynomialFeatures\n",
        "from sklearn.model_selection import train_test_split\n",
        "from sklearn.linear_model import LinearRegression\n",
        "from sklearn.metrics import mean_squared_error\n",
        "\n",
        "diabetes_dataset = load_diabetes()"
      ],
      "execution_count": 1,
      "outputs": []
    },
    {
      "cell_type": "markdown",
      "metadata": {
        "id": "yZ4mZ25_VwQ2",
        "colab_type": "text"
      },
      "source": [
        "PolynomialFeatures 함수에 parameter로 2를 넘긴 함수를 불러온다.\n",
        "\n",
        "이 함수를 polynomial_transformer라는 이름으로 저장한다."
      ]
    },
    {
      "cell_type": "code",
      "metadata": {
        "id": "UC2ASuEaTHuM",
        "colab_type": "code",
        "colab": {}
      },
      "source": [
        "polynomial_transformer = PolynomialFeatures(2)"
      ],
      "execution_count": 2,
      "outputs": []
    },
    {
      "cell_type": "markdown",
      "metadata": {
        "id": "O8UbI-IYV1oK",
        "colab_type": "text"
      },
      "source": [
        "polynomial_transformer 라이브러리가 제공하는 함수의 기능으로 multiple polynomial regression을 multiple linear regression으로 변환해준다. \n",
        "\n",
        "\n",
        "\n",
        "*   fit_transform : dataset의 feature를 polynomial -> linear로 변환\n",
        "*   get_feature_names : PolynomialFeature에 넘겨진 parameter만큼 조합된 feature_name들을 조합\n",
        "\n"
      ]
    },
    {
      "cell_type": "code",
      "metadata": {
        "id": "XfAyKirCVefi",
        "colab_type": "code",
        "colab": {}
      },
      "source": [
        "polynomial_data = polynomial_transformer.fit_transform(diabetes_dataset.data)\n",
        "polynomial_feature_names = polynomial_transformer.get_feature_names(diabetes_dataset.feature_names)"
      ],
      "execution_count": 3,
      "outputs": []
    },
    {
      "cell_type": "markdown",
      "metadata": {
        "id": "Zs0qVU73WmNf",
        "colab_type": "text"
      },
      "source": [
        "이후는 multiple linear regression과 동일"
      ]
    },
    {
      "cell_type": "code",
      "metadata": {
        "id": "6yUbVtQ4TkOp",
        "colab_type": "code",
        "colab": {}
      },
      "source": [
        "X = pd.DataFrame(polynomial_data, columns=polynomial_feature_names)"
      ],
      "execution_count": 4,
      "outputs": []
    },
    {
      "cell_type": "code",
      "metadata": {
        "id": "xZgI5Qc_UII9",
        "colab_type": "code",
        "colab": {}
      },
      "source": [
        "y = pd.DataFrame(diabetes_dataset.target, columns=['diabetes'])"
      ],
      "execution_count": 5,
      "outputs": []
    },
    {
      "cell_type": "code",
      "metadata": {
        "id": "AtU9j-M_UXy7",
        "colab_type": "code",
        "colab": {}
      },
      "source": [
        "X_train, X_test, y_train, y_test = train_test_split(X, y, test_size=0.2, random_state=5)"
      ],
      "execution_count": 6,
      "outputs": []
    },
    {
      "cell_type": "code",
      "metadata": {
        "id": "TsHtBJb0TpIV",
        "colab_type": "code",
        "colab": {}
      },
      "source": [
        "model = LinearRegression()"
      ],
      "execution_count": 7,
      "outputs": []
    },
    {
      "cell_type": "code",
      "metadata": {
        "id": "dIG22Y7MUjvs",
        "colab_type": "code",
        "colab": {
          "base_uri": "https://localhost:8080/",
          "height": 34
        },
        "outputId": "d874bbb5-4d4c-437d-ef98-518ca7d1bd39"
      },
      "source": [
        "model.fit(X_train, y_train)"
      ],
      "execution_count": 8,
      "outputs": [
        {
          "output_type": "execute_result",
          "data": {
            "text/plain": [
              "LinearRegression(copy_X=True, fit_intercept=True, n_jobs=None, normalize=False)"
            ]
          },
          "metadata": {
            "tags": []
          },
          "execution_count": 8
        }
      ]
    },
    {
      "cell_type": "code",
      "metadata": {
        "id": "qfGZHvG_Uqtu",
        "colab_type": "code",
        "colab": {}
      },
      "source": [
        "y_test_predict = model.predict(X_test)"
      ],
      "execution_count": 9,
      "outputs": []
    },
    {
      "cell_type": "code",
      "metadata": {
        "id": "XJ9Mak9OUuIs",
        "colab_type": "code",
        "colab": {
          "base_uri": "https://localhost:8080/",
          "height": 34
        },
        "outputId": "d390d32e-4f5b-4270-cefc-97eb7c17f799"
      },
      "source": [
        "mean_squared_error(y_test, y_test_predict) ** 0.5"
      ],
      "execution_count": 10,
      "outputs": [
        {
          "output_type": "execute_result",
          "data": {
            "text/plain": [
              "57.877049027248574"
            ]
          },
          "metadata": {
            "tags": []
          },
          "execution_count": 10
        }
      ]
    },
    {
      "cell_type": "code",
      "metadata": {
        "id": "55LaVeQMUzlc",
        "colab_type": "code",
        "colab": {}
      },
      "source": [
        ""
      ],
      "execution_count": 10,
      "outputs": []
    }
  ]
}