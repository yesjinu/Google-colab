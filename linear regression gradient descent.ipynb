{
  "nbformat": 4,
  "nbformat_minor": 0,
  "metadata": {
    "colab": {
      "name": "선형회귀함수 Linear regression의 .ipynb",
      "provenance": [],
      "authorship_tag": "ABX9TyM43fppk8Lw1eUdxA8VpYA9",
      "include_colab_link": true
    },
    "kernelspec": {
      "name": "python3",
      "display_name": "Python 3"
    }
  },
  "cells": [
    {
      "cell_type": "markdown",
      "metadata": {
        "id": "view-in-github",
        "colab_type": "text"
      },
      "source": [
        "<a href=\"https://colab.research.google.com/github/yesjinu/Google-colab/blob/master/linear%20regression%20gradient%20descent.ipynb\" target=\"_parent\"><img src=\"https://colab.research.google.com/assets/colab-badge.svg\" alt=\"Open In Colab\"/></a>"
      ]
    },
    {
      "cell_type": "code",
      "metadata": {
        "id": "lA5DeJs6Hi7u",
        "colab_type": "code",
        "colab": {
          "base_uri": "https://localhost:8080/",
          "height": 34
        },
        "outputId": "7490933b-2274-45ed-db28-e283e05b5bae"
      },
      "source": [
        "import numpy as np\n",
        "\n",
        "def prediction(theta_0, theta_1, x):\n",
        "    \"\"\"주어진 학습 데이터 벡터 x에 대해서 예측 값을 리턴하는 함수\"\"\"\n",
        "    return theta_0 + theta_1 * x\n",
        "    \n",
        "    \n",
        "def prediction_difference(theta_0, theta_1, x, y):\n",
        "    \"\"\"모든 예측 값들과 목표 변수들의 오차를 벡터로 리턴해주는 함수\"\"\"\n",
        "    return prediction(theta_0, theta_1, x) - y \n",
        "    \n",
        "    \n",
        "def gradient_descent(theta_0, theta_1, x, y, iterations, alpha):\n",
        "    \"\"\"주어진 theta_0, theta_1 변수들을 경사 하강를 하면서 업데이트 해주는 함수\"\"\"\n",
        "    for _ in range(iterations):  # 정해진 번만큼 경사 하강을 한다\n",
        "        error = prediction_difference(theta_0, theta_1, x, y)  # 예측값들과 입력 변수들의 오차를 계산\n",
        "        # 코드를 쓰세요\n",
        "        theta_0 = theta_0 - alpha * error.mean()\n",
        "        theta_1 = theta_1 - alpha * (error * x).mean()\n",
        "    return theta_0, theta_1\n",
        "    \n",
        "    \n",
        "# 입력 변수(집 크기) 초기화 (모든 집 평수 데이터를 1/10 크기로 줄임)\n",
        "house_size = np.array([0.9, 1.4, 2, 2.1, 2.6, 3.3, 3.35, 3.9, 4.4, 4.7, 5.2, 5.75, 6.7, 6.9])\n",
        "\n",
        "# 목표 변수(집 가격) 초기화 (모든 집 값 데이터를 1/10 크기로 줄임)\n",
        "house_price = np.array([0.3, 0.75, 0.45, 1.1, 1.45, 0.9, 1.8, 0.9, 1.5, 2.2, 1.75, 2.3, 2.49, 2.6])\n",
        "\n",
        "# theta 값들 초기화 (아무 값이나 시작함)\n",
        "theta_0 = 2.5\n",
        "theta_1 = 0\n",
        "\n",
        "# 학습률 0.1로 200번 경사 하강\n",
        "theta_0, theta_1 = gradient_descent(theta_0, theta_1, house_size, house_price, 200, 0.1)\n",
        "\n",
        "theta_0, theta_1\n",
        "\n",
        "# (0.16821801417752186, 0.3438032402351199)"
      ],
      "execution_count": 7,
      "outputs": [
        {
          "output_type": "execute_result",
          "data": {
            "text/plain": [
              "(0.16821801417752186, 0.3438032402351199)"
            ]
          },
          "metadata": {
            "tags": []
          },
          "execution_count": 7
        }
      ]
    },
    {
      "cell_type": "code",
      "metadata": {
        "id": "I7A1A92iUsYj",
        "colab_type": "code",
        "colab": {}
      },
      "source": [
        ""
      ],
      "execution_count": null,
      "outputs": []
    }
  ]
}