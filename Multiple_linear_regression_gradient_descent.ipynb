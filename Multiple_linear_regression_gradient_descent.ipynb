{
  "nbformat": 4,
  "nbformat_minor": 0,
  "metadata": {
    "colab": {
      "name": "Multiple linear regression gradient descent.ipynb",
      "provenance": [],
      "authorship_tag": "ABX9TyMGwEBZuwmudZky1VogQZXH",
      "include_colab_link": true
    },
    "kernelspec": {
      "name": "python3",
      "display_name": "Python 3"
    }
  },
  "cells": [
    {
      "cell_type": "markdown",
      "metadata": {
        "id": "view-in-github",
        "colab_type": "text"
      },
      "source": [
        "<a href=\"https://colab.research.google.com/github/yesjinu/Google-colab/blob/master/Multiple_linear_regression_gradient_descent.ipynb\" target=\"_parent\"><img src=\"https://colab.research.google.com/assets/colab-badge.svg\" alt=\"Open In Colab\"/></a>"
      ]
    },
    {
      "cell_type": "code",
      "metadata": {
        "id": "rOIDjkB7SXIJ",
        "colab_type": "code",
        "colab": {}
      },
      "source": [
        "import numpy as np\n",
        "import matplotlib.pyplot as plt "
      ],
      "execution_count": 1,
      "outputs": []
    },
    {
      "cell_type": "code",
      "metadata": {
        "id": "Ftcujk-_SziA",
        "colab_type": "code",
        "colab": {}
      },
      "source": [
        "def prediction(X, theta):\n",
        "    \"\"\"다중 선형 회귀 가정 함수. 모든 데이터에 대한 예측 값을 numpy 배열로 리턴한다\"\"\"\n",
        "    return X @ theta"
      ],
      "execution_count": 2,
      "outputs": []
    },
    {
      "cell_type": "code",
      "metadata": {
        "id": "G5PWcZveS0yF",
        "colab_type": "code",
        "colab": {}
      },
      "source": [
        "def gradient_descent(X, theta, y, iterations, alpha):\n",
        "    \"\"\"다중 선형 회귀 경사 하강법을 구현한 함수\"\"\"\n",
        "    m = len(X)  # 입력 변수 개수 저장\n",
        "    cost_list = []\n",
        "    for _ in range(iterations):\n",
        "        error = prediction(X, theta) - y\n",
        "        \n",
        "        # error@error로 적어도 동작함.\n",
        "        cost = (error.T @ error) / (2 * m)\n",
        "        cost_list.append(cost)\n",
        "\n",
        "        theta = theta - alpha / m * (X.T @ error)\n",
        "        \n",
        "    return theta, cost_list"
      ],
      "execution_count": 3,
      "outputs": []
    },
    {
      "cell_type": "code",
      "metadata": {
        "id": "h6z2Zm2oS28M",
        "colab_type": "code",
        "colab": {}
      },
      "source": [
        "# 입력 변수\n",
        "house_size = np.array([1.0, 1.5, 1.8, 5, 2.0, 2.5, 3.0, 3.5, 4.0, 5.0, 6.0, 7.0, 8.0, 8.5, 9.0, 10.0])  # 집 크기\n",
        "distance_from_station = np.array([5, 4.6, 4.2, 3.9, 3.9, 3.6, 3.5, 3.4, 2.9, 2.8, 2.7, 2.3, 2.0, 1.8, 1.5, 1.0])  # 지하철역으로부터의 거리 (km)\n",
        "number_of_rooms = np.array([1, 1, 1, 1, 2, 2, 2, 2, 3, 3, 3, 3, 4, 4, 4, 4])  # 방 수\n",
        "\n",
        "# 목표 변수\n",
        "house_price = np.array([3, 3.2, 3.6 , 8, 3.4, 4.5, 5, 5.8, 6, 6.5, 9, 9, 10, 12, 13, 15])  # 집 가격"
      ],
      "execution_count": 4,
      "outputs": []
    },
    {
      "cell_type": "code",
      "metadata": {
        "id": "0VIDmpk_S5L3",
        "colab_type": "code",
        "colab": {}
      },
      "source": [
        "# 설계 행렬 X 정의\n",
        "# x0에 해당하는 칼럼을 1로 초기화\n",
        "X = np.array([\n",
        "    np.ones(16),\n",
        "    house_size,\n",
        "    distance_from_station,\n",
        "    number_of_rooms\n",
        "]).T\n",
        "\n",
        "# 입력 변수 y 정의\n",
        "y = house_price\n",
        "\n",
        "# 파라미터 theta 초기화\n",
        "theta = np.array([0, 0, 0, 0])"
      ],
      "execution_count": 5,
      "outputs": []
    },
    {
      "cell_type": "code",
      "metadata": {
        "id": "wPauJzLkTAFE",
        "colab_type": "code",
        "colab": {
          "base_uri": "https://localhost:8080/",
          "height": 34
        },
        "outputId": "a7e0e1da-361f-48b5-cb44-611376d6e044"
      },
      "source": [
        "# 학습률 0.01로 100번 경사 하강\n",
        "theta, cost_list = gradient_descent(X, theta, y, 100, 0.01)\n",
        "\n",
        "theta"
      ],
      "execution_count": 6,
      "outputs": [
        {
          "output_type": "execute_result",
          "data": {
            "text/plain": [
              "array([0.11484521, 1.21120425, 0.18270523, 0.30060782])"
            ]
          },
          "metadata": {
            "tags": []
          },
          "execution_count": 6
        }
      ]
    },
    {
      "cell_type": "code",
      "metadata": {
        "id": "iQNQEFVxUCdr",
        "colab_type": "code",
        "colab": {
          "base_uri": "https://localhost:8080/",
          "height": 282
        },
        "outputId": "e1576864-4f80-4954-c845-adfabfa076b0"
      },
      "source": [
        "plt.plot(cost_list)"
      ],
      "execution_count": 7,
      "outputs": [
        {
          "output_type": "execute_result",
          "data": {
            "text/plain": [
              "[<matplotlib.lines.Line2D at 0x7f097933da20>]"
            ]
          },
          "metadata": {
            "tags": []
          },
          "execution_count": 7
        },
        {
          "output_type": "display_data",
          "data": {
            "image/png": "[encoded data removed]",
            "text/plain": [
              "<Figure size 432x288 with 1 Axes>"
            ]
          },
          "metadata": {
            "tags": [],
            "needs_background": "light"
          }
        }
      ]
    },
    {
      "cell_type": "code",
      "metadata": {
        "id": "M0_PVZ2FVYNf",
        "colab_type": "code",
        "colab": {}
      },
      "source": [
        ""
      ],
      "execution_count": 7,
      "outputs": []
    }
  ]
}