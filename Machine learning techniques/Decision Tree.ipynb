{
  "nbformat": 4,
  "nbformat_minor": 0,
  "metadata": {
    "colab": {
      "name": "Untitled1.ipynb",
      "provenance": [],
      "authorship_tag": "ABX9TyMOEJ+h7lWk9sVDc1ukf7bL",
      "include_colab_link": true
    },
    "kernelspec": {
      "name": "python3",
      "display_name": "Python 3"
    }
  },
  "cells": [
    {
      "cell_type": "markdown",
      "metadata": {
        "id": "view-in-github",
        "colab_type": "text"
      },
      "source": [
        "<a href=\"https://colab.research.google.com/github/yesjinu/Google-colab/blob/master/Decision%20Tree.ipynb\" target=\"_parent\"><img src=\"https://colab.research.google.com/assets/colab-badge.svg\" alt=\"Open In Colab\"/></a>"
      ]
    },
    {
      "cell_type": "markdown",
      "metadata": {
        "id": "jO5Mum_oZsm8",
        "colab_type": "text"
      },
      "source": [
        "sklearn 라이브러리에서 제공하는 tree구조 중 DecisionTreeClassifier를 불러온다."
      ]
    },
    {
      "cell_type": "code",
      "metadata": {
        "id": "SHIflGKQXhDu",
        "colab_type": "code",
        "colab": {}
      },
      "source": [
        "from sklearn.datasets import load_iris\n",
        "from sklearn.model_selection import train_test_split\n",
        "from sklearn.tree import DecisionTreeClassifier\n",
        "import matplotlib.pyplot as plt\n",
        "import numpy as np\n",
        "import pandas as pd"
      ],
      "execution_count": 14,
      "outputs": []
    },
    {
      "cell_type": "code",
      "metadata": {
        "id": "89Vf0AsiXnHL",
        "colab_type": "code",
        "colab": {}
      },
      "source": [
        "iris_dataset = load_iris()"
      ],
      "execution_count": 2,
      "outputs": []
    },
    {
      "cell_type": "code",
      "metadata": {
        "id": "4N6Z5iLrXr94",
        "colab_type": "code",
        "colab": {}
      },
      "source": [
        "X = pd.DataFrame(iris_dataset.data, columns=iris_dataset.feature_names)\n",
        "y = pd.DataFrame(iris_dataset.target, columns=['Class'])"
      ],
      "execution_count": 20,
      "outputs": []
    },
    {
      "cell_type": "markdown",
      "metadata": {
        "id": "c0DDb-50Z06I",
        "colab_type": "text"
      },
      "source": [
        "DecisionTreeClassifier의 클래스를 생성하며 파라미터로 max_depth를 4로 초기설정한다."
      ]
    },
    {
      "cell_type": "code",
      "metadata": {
        "id": "GwoTJOIjYNzE",
        "colab_type": "code",
        "colab": {}
      },
      "source": [
        "model = DecisionTreeClassifier(max_depth=4)"
      ],
      "execution_count": 9,
      "outputs": []
    },
    {
      "cell_type": "markdown",
      "metadata": {
        "id": "gOoxFgW5Z7UO",
        "colab_type": "text"
      },
      "source": [
        "사용 방법은 이전 sklearn 라이브러리와 같다. train, test set을 나누고, fit, 그리고 predict 혹은 score. "
      ]
    },
    {
      "cell_type": "code",
      "metadata": {
        "id": "hMNd9CkDYaap",
        "colab_type": "code",
        "colab": {
          "base_uri": "https://localhost:8080/",
          "height": 34
        },
        "outputId": "6e7cda6f-096c-4cf3-b07d-2816be49b545"
      },
      "source": [
        "X_train, X_test, y_train, y_test = train_test_split(X, y, test_size=0.2, random_state=5)\n",
        "model.fit(X_train, y_train)\n",
        "model.score(X_test, y_test)"
      ],
      "execution_count": 21,
      "outputs": [
        {
          "output_type": "execute_result",
          "data": {
            "text/plain": [
              "0.9"
            ]
          },
          "metadata": {
            "tags": []
          },
          "execution_count": 21
        }
      ]
    },
    {
      "cell_type": "code",
      "metadata": {
        "id": "aO5PHthUY0ul",
        "colab_type": "code",
        "colab": {
          "base_uri": "https://localhost:8080/",
          "height": 359
        },
        "outputId": "fbef3d4c-485c-497c-d91f-9c4fb9c8983e"
      },
      "source": [
        "importance = model.feature_importances_\n",
        "indices_sorted = np.argsort(importance)\n",
        "\n",
        "plt.figure()\n",
        "plt.title(\"Feature importances\")\n",
        "plt.bar(range(len(importance)), importances[indices_sorted])\n",
        "plt.xticks(range(len(importance)), X.columns[indices_sorted], rotation=90)\n",
        "plt.show()"
      ],
      "execution_count": 22,
      "outputs": [
        {
          "output_type": "display_data",
          "data": {
            "image/png": "[encoded data removed]",
            "text/plain": [
              "<Figure size 432x288 with 1 Axes>"
            ]
          },
          "metadata": {
            "tags": [],
            "needs_background": "light"
          }
        }
      ]
    },
    {
      "cell_type": "code",
      "metadata": {
        "id": "P2gIBXOxZKbY",
        "colab_type": "code",
        "colab": {}
      },
      "source": [
        ""
      ],
      "execution_count": null,
      "outputs": []
    }
  ]
}